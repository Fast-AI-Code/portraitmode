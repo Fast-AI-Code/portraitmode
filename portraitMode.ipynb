{
 "cells": [
  {
   "cell_type": "markdown",
   "metadata": {
    "toc": true
   },
   "source": [
    "<h1>Table of Contents<span class=\"tocSkip\"></span></h1>\n",
    "<div class=\"toc\"><ul class=\"toc-item\"><li><span><a href=\"#Imports\" data-toc-modified-id=\"Imports-1\"><span class=\"toc-item-num\">1&nbsp;&nbsp;</span>Imports</a></span></li></ul></div>"
   ]
  },
  {
   "cell_type": "markdown",
   "metadata": {},
   "source": [
    "# Imports"
   ]
  },
  {
   "cell_type": "code",
   "execution_count": 199,
   "metadata": {
    "ExecuteTime": {
     "end_time": "2019-06-08T17:00:01.699621Z",
     "start_time": "2019-06-08T17:00:01.694759Z"
    },
    "run_control": {
     "marked": false
    }
   },
   "outputs": [],
   "source": [
    "import cv2\n",
    "import matplotlib.pyplot as plt\n",
    "from imutils.object_detection import non_max_suppression\n",
    "import imutils\n",
    "import numpy as np\n",
    "import math"
   ]
  },
  {
   "cell_type": "code",
   "execution_count": 330,
   "metadata": {
    "ExecuteTime": {
     "end_time": "2019-06-08T17:35:51.814226Z",
     "start_time": "2019-06-08T17:35:51.775988Z"
    },
    "run_control": {
     "marked": true
    }
   },
   "outputs": [],
   "source": [
    "img = cv2.imread('images/test6.jpeg',cv2.COLOR_BGR2RGB)\n",
    "back = img.copy()\n",
    "blurred = cv2.GaussianBlur(img, (17,17),0)"
   ]
  },
  {
   "cell_type": "code",
   "execution_count": 185,
   "metadata": {
    "ExecuteTime": {
     "end_time": "2019-06-08T16:55:20.969321Z",
     "start_time": "2019-06-08T16:55:20.966634Z"
    }
   },
   "outputs": [],
   "source": [
    "# plt.imshow(cv2.cvtColor(img, cv2.COLOR_BGR2RGB))\n",
    "# plt.show()\n"
   ]
  },
  {
   "cell_type": "code",
   "execution_count": 331,
   "metadata": {
    "ExecuteTime": {
     "end_time": "2019-06-08T17:35:52.110789Z",
     "start_time": "2019-06-08T17:35:51.828965Z"
    },
    "run_control": {
     "marked": true
    }
   },
   "outputs": [],
   "source": [
    "rects = cv2.CascadeClassifier('data/haarcascade_frontalface_default.xml').detectMultiScale(img,1.3, 5)\n",
    "\n",
    "for f in rects:     \n",
    "    x, y, w, h = [ v for v in f ]\n",
    "    r = (2*x+w)/2\n",
    "    \n",
    "#     cv2.rectangle(img, (x,y), (x+w,y+h), (255,255,0), 5)\n",
    "    sub_face = img[y:y+h+10, x:x+w+10]\n",
    "    blurred[y:y+sub_face.shape[0], x:x+sub_face.shape[1]] = sub_face"
   ]
  },
  {
   "cell_type": "code",
   "execution_count": null,
   "metadata": {},
   "outputs": [],
   "source": []
  },
  {
   "cell_type": "code",
   "execution_count": 220,
   "metadata": {
    "ExecuteTime": {
     "end_time": "2019-06-08T17:04:50.893559Z",
     "start_time": "2019-06-08T17:04:48.912901Z"
    },
    "run_control": {
     "marked": false
    }
   },
   "outputs": [],
   "source": [
    "\n",
    "rects = cv2.CascadeClassifier('data/haarcascade_frontalface_default.xml').detectMultiScale(img,1.3, 5)\n",
    "\n",
    "for f in rects:     \n",
    "    x, y, w, h = [ v for v in f ]\n",
    "    r = int(math.pi*(h/2)**2)\n",
    "    \n",
    "#     cv2.rectangle(img, (x,y), (x+w,y+h), (255,255,0), 5)\n",
    "    sub_face = img[y:(y+r), x:(x+r)]\n",
    "    blurred[y:(y+r), x:(x+r)] = sub_face"
   ]
  },
  {
   "cell_type": "code",
   "execution_count": 332,
   "metadata": {
    "ExecuteTime": {
     "end_time": "2019-06-08T17:35:52.172226Z",
     "start_time": "2019-06-08T17:35:52.126159Z"
    },
    "run_control": {
     "marked": true
    }
   },
   "outputs": [
    {
     "data": {
      "text/plain": [
       "True"
      ]
     },
     "execution_count": 332,
     "metadata": {},
     "output_type": "execute_result"
    }
   ],
   "source": [
    "cv2.imwrite('outputs/test6.jpg',blurred)\n",
    "\n"
   ]
  },
  {
   "cell_type": "code",
   "execution_count": null,
   "metadata": {},
   "outputs": [],
   "source": []
  },
  {
   "cell_type": "code",
   "execution_count": null,
   "metadata": {},
   "outputs": [],
   "source": []
  },
  {
   "cell_type": "code",
   "execution_count": 199,
   "metadata": {
    "ExecuteTime": {
     "end_time": "2019-06-08T17:00:01.699621Z",
     "start_time": "2019-06-08T17:00:01.694759Z"
    },
    "run_control": {
     "marked": false
    }
   },
   "outputs": [],
   "source": []
  }
 ],
 "metadata": {
  "kernelspec": {
   "display_name": "Python 3",
   "language": "python",
   "name": "python3"
  },
  "toc": {
   "base_numbering": 1,
   "nav_menu": {},
   "number_sections": true,
   "sideBar": true,
   "skip_h1_title": false,
   "title_cell": "Table of Contents",
   "title_sidebar": "Contents",
   "toc_cell": true,
   "toc_position": {},
   "toc_section_display": true,
   "toc_window_display": false
  }
 },
 "nbformat": 4,
 "nbformat_minor": 2
}
